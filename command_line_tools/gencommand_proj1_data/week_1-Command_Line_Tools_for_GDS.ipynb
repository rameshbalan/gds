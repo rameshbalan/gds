{
 "cells": [
  {
   "cell_type": "code",
   "execution_count": 5,
   "metadata": {},
   "outputs": [
    {
     "name": "stdout",
     "output_type": "stream",
     "text": [
      "3\n"
     ]
    }
   ],
   "source": [
    "%%bash\n",
    "# How many chromosomes are there in the genome?\n",
    "grep \">\" apple.genome | wc -l"
   ]
  },
  {
   "cell_type": "code",
   "execution_count": 6,
   "metadata": {},
   "outputs": [
    {
     "name": "stdout",
     "output_type": "stream",
     "text": [
      "5453\n"
     ]
    }
   ],
   "source": [
    "%%bash\n",
    "# How many genes?\n",
    "cut -f1 apple.genes | sort | uniq | wc -l"
   ]
  },
  {
   "cell_type": "code",
   "execution_count": 7,
   "metadata": {},
   "outputs": [
    {
     "name": "stdout",
     "output_type": "stream",
     "text": [
      "5456\n"
     ]
    }
   ],
   "source": [
    "%%bash\n",
    "# How many transcript variants?\n",
    "cut -f2 apple.genes | sort | uniq | wc -l"
   ]
  },
  {
   "cell_type": "code",
   "execution_count": 19,
   "metadata": {},
   "outputs": [
    {
     "name": "stdout",
     "output_type": "stream",
     "text": [
      "5451\n",
      "2\n"
     ]
    }
   ],
   "source": [
    "%%bash\n",
    "# How many genes have a single splice variant?\n",
    "cut -f1 apple.genes | sort | uniq -c | grep -c \"1\"\n",
    "cut -f1 apple.genes | sort | uniq -c | grep -vc \"1\""
   ]
  },
  {
   "cell_type": "code",
   "execution_count": 26,
   "metadata": {},
   "outputs": [
    {
     "name": "stdout",
     "output_type": "stream",
     "text": [
      "   2791 -\n",
      "   2662 +\n"
     ]
    }
   ],
   "source": [
    "%%bash\n",
    "# How many genes are there on the ‘+’ strand?\n",
    "# How many genes are there on the ‘-’ strand?\n",
    "\n",
    "cut -f1,4 apple.genes | sort -u | cut -f2 | sort | uniq -c "
   ]
  },
  {
   "cell_type": "code",
   "execution_count": 39,
   "metadata": {},
   "outputs": [
    {
     "name": "stdout",
     "output_type": "stream",
     "text": [
      "   1624 chr1\n",
      "   2058 chr2\n",
      "   1771 chr3\n"
     ]
    }
   ],
   "source": [
    "%%bash\n",
    "# How many genes are there on each chromosome chr1?\n",
    "# How many genes are there on each chromosome chr2?\n",
    "# How many genes are there on each chromosome chr3?\n",
    "cut -f1,3 apple.genes | sort -u | cut -f2 | sort | uniq -c "
   ]
  },
  {
   "cell_type": "code",
   "execution_count": 41,
   "metadata": {},
   "outputs": [
    {
     "name": "stdout",
     "output_type": "stream",
     "text": [
      "   1625 chr1\n",
      "   2059 chr2\n",
      "   1772 chr3\n"
     ]
    }
   ],
   "source": [
    "%%bash\n",
    "# How many transcripts are there on each chromosome chr1?\n",
    "# How many transcripts are there on each chromosome chr2?\n",
    "# How many transcripts are there on each chromosome chr3?\n",
    "cut -f2,3 apple.genes | sort -u | cut -f2 | sort | uniq -c "
   ]
  },
  {
   "cell_type": "code",
   "execution_count": 44,
   "metadata": {},
   "outputs": [
    {
     "name": "stdout",
     "output_type": "stream",
     "text": [
      "2410\n",
      "1205\n",
      "1243\n"
     ]
    }
   ],
   "source": [
    "%%bash\n",
    "# How many genes are in common between condition A and condition B?\n",
    "# How many genes are specific to condition A?\n",
    "# How many genes are specific to condition B?\n",
    "\n",
    "comm -1 -2 apple.conditionA.genes.ids apple.conditionB.genes.ids | wc -l\n",
    "comm -3 -2 apple.conditionA.genes.ids apple.conditionB.genes.ids | wc -l\n",
    "comm -1 -3 apple.conditionA.genes.ids apple.conditionB.genes.ids | wc -l"
   ]
  },
  {
   "cell_type": "code",
   "execution_count": 45,
   "metadata": {},
   "outputs": [
    {
     "name": "stdout",
     "output_type": "stream",
     "text": [
      "1608\n"
     ]
    }
   ],
   "source": [
    "%%bash\n",
    "# How many genes are in common to all three conditions?\n",
    "comm -1 -2 apple.conditionBC.genes.id apple.conditionA.genes.ids | wc -l"
   ]
  }
 ],
 "metadata": {
  "kernelspec": {
   "display_name": "Python 3",
   "language": "python",
   "name": "python3"
  },
  "language_info": {
   "codemirror_mode": {
    "name": "ipython",
    "version": 3
   },
   "file_extension": ".py",
   "mimetype": "text/x-python",
   "name": "python",
   "nbconvert_exporter": "python",
   "pygments_lexer": "ipython3",
   "version": "3.8.3"
  }
 },
 "nbformat": 4,
 "nbformat_minor": 4
}
