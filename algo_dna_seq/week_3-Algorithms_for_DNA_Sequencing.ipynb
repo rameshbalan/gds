{
 "cells": [
  {
   "cell_type": "code",
   "execution_count": 1,
   "metadata": {},
   "outputs": [
    {
     "name": "stdout",
     "output_type": "stream",
     "text": [
      "--2020-06-06 07:46:58--  https://d28rh4a8wq0iu5.cloudfront.net/ads1/data/chr1.GRCh38.excerpt.fasta\n",
      "Resolving d28rh4a8wq0iu5.cloudfront.net (d28rh4a8wq0iu5.cloudfront.net)... 143.204.160.55, 143.204.160.6, 143.204.160.108, ...\n",
      "Connecting to d28rh4a8wq0iu5.cloudfront.net (d28rh4a8wq0iu5.cloudfront.net)|143.204.160.55|:443... connected.\n",
      "HTTP request sent, awaiting response... 200 OK\n",
      "Length: 810105 (791K) [application/octet-stream]\n",
      "Saving to: ‘chr1.GRCh38.excerpt.fasta.1’\n",
      "\n",
      "chr1.GRCh38.excerpt 100%[===================>] 791.12K  4.63MB/s    in 0.2s    \n",
      "\n",
      "2020-06-06 07:46:59 (4.63 MB/s) - ‘chr1.GRCh38.excerpt.fasta.1’ saved [810105/810105]\n",
      "\n"
     ]
    }
   ],
   "source": [
    "!wget https://d28rh4a8wq0iu5.cloudfront.net/ads1/data/chr1.GRCh38.excerpt.fasta"
   ]
  },
  {
   "cell_type": "code",
   "execution_count": 104,
   "metadata": {},
   "outputs": [],
   "source": [
    "# read a genome\n",
    "def readGenome(filename):\n",
    "    genome = ''\n",
    "    with open(filename, 'r') as f:\n",
    "        for line in f:\n",
    "            # ignore header line with genome information\n",
    "            if not line[0] == '>':\n",
    "                genome += line.rstrip()\n",
    "    return genome\n",
    "\n",
    "# parses fastq files\n",
    "def readFastq(filename):\n",
    "    sequences = []\n",
    "    qualities = []\n",
    "    with open(filename) as fh:\n",
    "        while True:\n",
    "            fh.readline()  # skip name line\n",
    "            seq = fh.readline().rstrip()  # read base sequence\n",
    "            fh.readline()  # skip placeholder line\n",
    "            qual = fh.readline().rstrip() # base quality line\n",
    "            if len(seq) == 0:\n",
    "                break\n",
    "            sequences.append(seq)\n",
    "            qualities.append(qual)\n",
    "    return sequences, qualities"
   ]
  },
  {
   "cell_type": "code",
   "execution_count": 2,
   "metadata": {},
   "outputs": [],
   "source": [
    "chr1 = readGenome(\"chr1.GRCh38.excerpt.fasta.1\")"
   ]
  },
  {
   "cell_type": "code",
   "execution_count": 23,
   "metadata": {},
   "outputs": [],
   "source": [
    "def editDistance(x, y):\n",
    "    # Create distance matrix\n",
    "    D = []\n",
    "    for i in range(len(x)+1):\n",
    "        D.append([0]*(len(y)+1))\n",
    "    # Initialize first row and column of matrix\n",
    "    for i in range(len(x)+1):\n",
    "        D[i][0] = i\n",
    "    for i in range(len(y)+1):\n",
    "        D[0][i] = 0\n",
    "    # Fill in the rest of the matrix\n",
    "    for i in range(1, len(x)+1):\n",
    "        for j in range(1, len(y)+1):\n",
    "            distHor = D[i][j-1] + 1\n",
    "            distVer = D[i-1][j] + 1\n",
    "            if x[i-1] == y[j-1]:\n",
    "                distDiag = D[i-1][j-1]\n",
    "            else:\n",
    "                distDiag = D[i-1][j-1] + 1\n",
    "            D[i][j] = min(distHor, distVer, distDiag)\n",
    "    # Edit distance is the value in the bottom right corner of the matrix\n",
    "    return min(D[-1][:])"
   ]
  },
  {
   "cell_type": "code",
   "execution_count": 29,
   "metadata": {},
   "outputs": [
    {
     "data": {
      "text/plain": [
       "3"
      ]
     },
     "execution_count": 29,
     "metadata": {},
     "output_type": "execute_result"
    }
   ],
   "source": [
    "editDistance(\"GCTGATCGATCGTACG\",chr1)"
   ]
  },
  {
   "cell_type": "code",
   "execution_count": 30,
   "metadata": {},
   "outputs": [
    {
     "data": {
      "text/plain": [
       "2"
      ]
     },
     "execution_count": 30,
     "metadata": {},
     "output_type": "execute_result"
    }
   ],
   "source": [
    "editDistance('GATTTACCAGATTGAG',chr1)"
   ]
  },
  {
   "cell_type": "code",
   "execution_count": 111,
   "metadata": {},
   "outputs": [],
   "source": [
    "from itertools import permutations,combinations\n",
    "def overlap(a, b, min_length):\n",
    "    \"\"\" Return length of longest suffix of 'a' matching\n",
    "        a prefix of 'b' that is at least 'min_length'\n",
    "        characters long.  If no such overlap exists,\n",
    "        return 0. \"\"\"\n",
    "    start = 0  # start all the way at the left\n",
    "    while True:\n",
    "        start = a.find(b[:min_length], start)  # look for b's prefix in a\n",
    "        if start == -1:  # no more occurrences to right\n",
    "            pass\n",
    "        # found occurrence; check for full suffix/prefix match\n",
    "        if b.startswith(a[start:]):\n",
    "            return (a,b)\n",
    "        start += 1  # move just past previous match"
   ]
  },
  {
   "cell_type": "code",
   "execution_count": 112,
   "metadata": {},
   "outputs": [
    {
     "name": "stdout",
     "output_type": "stream",
     "text": [
      "[('CGTACG', 'TACGTA'), ('CGTACG', 'GTACGT'), ('CGTACG', 'GTACGA'), ('CGTACG', 'TACGAT'), ('TACGTA', 'CGTACG'), ('TACGTA', 'ACGTAC'), ('GTACGT', 'TACGTA'), ('GTACGT', 'ACGTAC'), ('ACGTAC', 'CGTACG'), ('ACGTAC', 'GTACGT'), ('ACGTAC', 'GTACGA'), ('GTACGA', 'TACGAT')]\n"
     ]
    }
   ],
   "source": [
    "reads = ['CGTACG', 'TACGTA', 'GTACGT', 'ACGTAC', 'GTACGA', 'TACGAT']\n",
    "def overlap(reads, min_length):\n",
    "    \"\"\" Return length of longest suffix of 'a' matching\n",
    "        a prefix of 'b' that is at least 'min_length'\n",
    "        characters long.  If no such overlap exists,\n",
    "        return 0. \"\"\"\n",
    "    collect = []\n",
    "    start = 0  # start all the way at the left\n",
    "    for combo in permutations(reads,2):\n",
    "        start = 0\n",
    "        a = combo[0]\n",
    "        b = combo[1]\n",
    "        start = a.find(b[:min_length], start)  # look for b's prefix in a\n",
    "        if start == -1:  # no more occurrences to right\n",
    "            continue\n",
    "        # found occurrence; check for full suffix/prefix match\n",
    "        if b.startswith(a[start:]):\n",
    "            collect.append((a,b))\n",
    "    \n",
    "        start += 1  # move just past previous match\n",
    "    return collect\n",
    "result = overlap(reads,4)\n",
    "print(result)"
   ]
  },
  {
   "cell_type": "code",
   "execution_count": 119,
   "metadata": {},
   "outputs": [
    {
     "name": "stdout",
     "output_type": "stream",
     "text": [
      "{('ACGTAC', 'CGTACG'), ('GTACGT', 'TACGTA'), ('CGTACG', 'GTACGA'), ('TACGTA', 'ACGTAC'), ('GTACGA', 'TACGAT'), ('CGTACG', 'GTACGT')}\n"
     ]
    }
   ],
   "source": [
    "reads = ['CGTACG', 'TACGTA', 'GTACGT', 'ACGTAC', 'GTACGA', 'TACGAT']\n",
    "def overlap_for_reads(reads, min_length):\n",
    "    \"\"\" Return length of longest suffix of 'a' matching\n",
    "        a prefix of 'b' that is at least 'min_length'\n",
    "        characters long.  If no such overlap exists,\n",
    "        return 0. \"\"\"\n",
    "    huge_dict = dict()\n",
    "\n",
    "    for read in reads:\n",
    "        for number in range(0,len(read)+1):\n",
    "            if len(read[number:number+min_length]) == min_length:\n",
    "                if read[number:number+min_length] in huge_dict.keys():\n",
    "                    huge_dict[read[number:number+min_length]].add(read)\n",
    "                if not read[number:number+min_length] in huge_dict.keys():\n",
    "                    reads_set = set()\n",
    "                    reads_set.add(read)\n",
    "                    huge_dict[read[number:number+min_length]] = reads_set\n",
    "    collect = set()\n",
    "    for kmer,collected_reads in huge_dict.items():\n",
    "        if len(reads) > 2:\n",
    "#             collect = []\n",
    "            for read in permutations(collected_reads,2):\n",
    "                start = 0\n",
    "                a = read[0]\n",
    "                b = read[1]\n",
    "#                 print(a,b)\n",
    "                start = a.find(b[:min_length], start)  # look for b's prefix in a\n",
    "#                 print(start)\n",
    "                if start == -1:  # no more occurrences to right\n",
    "                    continue\n",
    "                # found occurrence; check for full suffix/prefix match\n",
    "                if b.startswith(a[start:]):\n",
    "                    collect.add((a,b))\n",
    "\n",
    "                start += 1  # move just past previous match\n",
    "    return collect\n",
    "result = overlap_for_reads(reads,5)\n",
    "print(result)"
   ]
  },
  {
   "cell_type": "code",
   "execution_count": 42,
   "metadata": {},
   "outputs": [
    {
     "ename": "KeyboardInterrupt",
     "evalue": "",
     "output_type": "error",
     "traceback": [
      "\u001b[0;31m---------------------------------------------------------------------------\u001b[0m",
      "\u001b[0;31mKeyboardInterrupt\u001b[0m                         Traceback (most recent call last)",
      "\u001b[0;32m<ipython-input-42-c2bb9da647ac>\u001b[0m in \u001b[0;36m<module>\u001b[0;34m\u001b[0m\n\u001b[1;32m     17\u001b[0m     \u001b[0;32mif\u001b[0m \u001b[0mlen\u001b[0m\u001b[0;34m(\u001b[0m\u001b[0mhuge_dict\u001b[0m\u001b[0;34m[\u001b[0m\u001b[0mkey\u001b[0m\u001b[0;34m]\u001b[0m\u001b[0;34m)\u001b[0m \u001b[0;34m>=\u001b[0m \u001b[0;36m2\u001b[0m\u001b[0;34m:\u001b[0m\u001b[0;34m\u001b[0m\u001b[0;34m\u001b[0m\u001b[0m\n\u001b[1;32m     18\u001b[0m         \u001b[0;32mfor\u001b[0m \u001b[0mvalue\u001b[0m \u001b[0;32min\u001b[0m \u001b[0mset\u001b[0m\u001b[0;34m(\u001b[0m\u001b[0mpermutations\u001b[0m\u001b[0;34m(\u001b[0m\u001b[0mhuge_dict\u001b[0m\u001b[0;34m[\u001b[0m\u001b[0mkey\u001b[0m\u001b[0;34m]\u001b[0m\u001b[0;34m,\u001b[0m\u001b[0;36m2\u001b[0m\u001b[0;34m)\u001b[0m\u001b[0;34m)\u001b[0m\u001b[0;34m:\u001b[0m\u001b[0;34m\u001b[0m\u001b[0;34m\u001b[0m\u001b[0m\n\u001b[0;32m---> 19\u001b[0;31m             \u001b[0mx\u001b[0m\u001b[0;34m.\u001b[0m\u001b[0mappend\u001b[0m\u001b[0;34m(\u001b[0m\u001b[0moverlap\u001b[0m\u001b[0;34m(\u001b[0m\u001b[0mvalue\u001b[0m\u001b[0;34m[\u001b[0m\u001b[0;36m0\u001b[0m\u001b[0;34m]\u001b[0m\u001b[0;34m,\u001b[0m\u001b[0mvalue\u001b[0m\u001b[0;34m[\u001b[0m\u001b[0;36m1\u001b[0m\u001b[0;34m]\u001b[0m\u001b[0;34m,\u001b[0m\u001b[0;36m5\u001b[0m\u001b[0;34m)\u001b[0m\u001b[0;34m)\u001b[0m\u001b[0;34m\u001b[0m\u001b[0;34m\u001b[0m\u001b[0m\n\u001b[0m\u001b[1;32m     20\u001b[0m \u001b[0mprint\u001b[0m\u001b[0;34m(\u001b[0m\u001b[0mx\u001b[0m\u001b[0;34m)\u001b[0m\u001b[0;34m\u001b[0m\u001b[0;34m\u001b[0m\u001b[0m\n\u001b[1;32m     21\u001b[0m \u001b[0mprint\u001b[0m\u001b[0;34m(\u001b[0m\u001b[0mset\u001b[0m\u001b[0;34m(\u001b[0m\u001b[0mx\u001b[0m\u001b[0;34m)\u001b[0m\u001b[0;34m)\u001b[0m\u001b[0;34m\u001b[0m\u001b[0;34m\u001b[0m\u001b[0m\n",
      "\u001b[0;32m<ipython-input-41-cb881fae71bb>\u001b[0m in \u001b[0;36moverlap\u001b[0;34m(a, b, min_length)\u001b[0m\n\u001b[1;32m      7\u001b[0m     \u001b[0mstart\u001b[0m \u001b[0;34m=\u001b[0m \u001b[0;36m0\u001b[0m  \u001b[0;31m# start all the way at the left\u001b[0m\u001b[0;34m\u001b[0m\u001b[0;34m\u001b[0m\u001b[0m\n\u001b[1;32m      8\u001b[0m     \u001b[0;32mwhile\u001b[0m \u001b[0;32mTrue\u001b[0m\u001b[0;34m:\u001b[0m\u001b[0;34m\u001b[0m\u001b[0;34m\u001b[0m\u001b[0m\n\u001b[0;32m----> 9\u001b[0;31m         \u001b[0mstart\u001b[0m \u001b[0;34m=\u001b[0m \u001b[0ma\u001b[0m\u001b[0;34m.\u001b[0m\u001b[0mfind\u001b[0m\u001b[0;34m(\u001b[0m\u001b[0mb\u001b[0m\u001b[0;34m[\u001b[0m\u001b[0;34m:\u001b[0m\u001b[0mmin_length\u001b[0m\u001b[0;34m]\u001b[0m\u001b[0;34m,\u001b[0m \u001b[0mstart\u001b[0m\u001b[0;34m)\u001b[0m  \u001b[0;31m# look for b's prefix in a\u001b[0m\u001b[0;34m\u001b[0m\u001b[0;34m\u001b[0m\u001b[0m\n\u001b[0m\u001b[1;32m     10\u001b[0m         \u001b[0;32mif\u001b[0m \u001b[0mstart\u001b[0m \u001b[0;34m==\u001b[0m \u001b[0;34m-\u001b[0m\u001b[0;36m1\u001b[0m\u001b[0;34m:\u001b[0m  \u001b[0;31m# no more occurrences to right\u001b[0m\u001b[0;34m\u001b[0m\u001b[0;34m\u001b[0m\u001b[0m\n\u001b[1;32m     11\u001b[0m             \u001b[0;32mpass\u001b[0m\u001b[0;34m\u001b[0m\u001b[0;34m\u001b[0m\u001b[0m\n",
      "\u001b[0;31mKeyboardInterrupt\u001b[0m: "
     ]
    }
   ],
   "source": [
    "reads = ['CGTACG', 'TACGTA', 'GTACGT', 'ACGTAC', 'GTACGA', 'TACGAT']\n",
    "huge_dict = {}\n",
    "\n",
    "for read in reads:\n",
    "    reads_set = []\n",
    "    for number in range(0,len(read)+1):\n",
    "        if len(read[number:number+5]) == 5:\n",
    "            if read[number:number+5] in huge_dict.keys():\n",
    "                if not read in huge_dict[read[number:number+5]]:\n",
    "                    huge_dict[read[number:number+5]].append(read)\n",
    "            else:\n",
    "                huge_dict[read[number:number+5]] = [read]\n",
    "from itertools import permutations\n",
    "x = []\n",
    "for key in huge_dict.keys():\n",
    "#     print(key)\n",
    "    if len(huge_dict[key]) >= 2:\n",
    "        for value in set(permutations(huge_dict[key],2)):\n",
    "            x.append(overlap(value[0],value[1],5))\n",
    "print(x)\n",
    "print(set(x))\n",
    "print(len(set(x))-1)"
   ]
  },
  {
   "cell_type": "code",
   "execution_count": 74,
   "metadata": {},
   "outputs": [
    {
     "name": "stdout",
     "output_type": "stream",
     "text": [
      "--2020-06-06 08:39:41--  https://d28rh4a8wq0iu5.cloudfront.net/ads1/data/ERR266411_1.for_asm.fastq\n",
      "Resolving d28rh4a8wq0iu5.cloudfront.net (d28rh4a8wq0iu5.cloudfront.net)... 143.204.160.6, 143.204.160.98, 143.204.160.108, ...\n",
      "Connecting to d28rh4a8wq0iu5.cloudfront.net (d28rh4a8wq0iu5.cloudfront.net)|143.204.160.6|:443... connected.\n",
      "HTTP request sent, awaiting response... 200 OK\n",
      "Length: 2562951 (2.4M) [application/octet-stream]\n",
      "Saving to: ‘ERR266411_1.for_asm.fastq’\n",
      "\n",
      "ERR266411_1.for_asm 100%[===================>]   2.44M  1.74MB/s    in 1.4s    \n",
      "\n",
      "2020-06-06 08:39:43 (1.74 MB/s) - ‘ERR266411_1.for_asm.fastq’ saved [2562951/2562951]\n",
      "\n"
     ]
    }
   ],
   "source": [
    "!wget https://d28rh4a8wq0iu5.cloudfront.net/ads1/data/ERR266411_1.for_asm.fastq"
   ]
  },
  {
   "cell_type": "code",
   "execution_count": 123,
   "metadata": {},
   "outputs": [],
   "source": [
    "reads, qualitites = readFastq('ERR266411_1.for_asm.fastq')"
   ]
  },
  {
   "cell_type": "code",
   "execution_count": 124,
   "metadata": {},
   "outputs": [
    {
     "data": {
      "text/plain": [
       "10000"
      ]
     },
     "execution_count": 124,
     "metadata": {},
     "output_type": "execute_result"
    }
   ],
   "source": [
    "len(reads)"
   ]
  },
  {
   "cell_type": "code",
   "execution_count": 125,
   "metadata": {},
   "outputs": [
    {
     "name": "stderr",
     "output_type": "stream",
     "text": [
      "IOPub data rate exceeded.\n",
      "The notebook server will temporarily stop sending output\n",
      "to the client in order to avoid crashing it.\n",
      "To change this limit, set the config variable\n",
      "`--NotebookApp.iopub_data_rate_limit`.\n",
      "\n",
      "Current values:\n",
      "NotebookApp.iopub_data_rate_limit=1000000.0 (bytes/sec)\n",
      "NotebookApp.rate_limit_window=3.0 (secs)\n",
      "\n"
     ]
    }
   ],
   "source": [
    "def overlap_for_reads(reads, min_length):\n",
    "    \"\"\" Return length of longest suffix of 'a' matching\n",
    "        a prefix of 'b' that is at least 'min_length'\n",
    "        characters long.  If no such overlap exists,\n",
    "        return 0. \"\"\"\n",
    "    huge_dict = dict()\n",
    "\n",
    "    for read in reads:\n",
    "        for number in range(0,len(read)+1):\n",
    "            if len(read[number:number+min_length]) == min_length:\n",
    "                if read[number:number+min_length] in huge_dict.keys():\n",
    "                    huge_dict[read[number:number+min_length]].add(read)\n",
    "                if not read[number:number+min_length] in huge_dict.keys():\n",
    "                    reads_set = set()\n",
    "                    reads_set.add(read)\n",
    "                    huge_dict[read[number:number+min_length]] = reads_set\n",
    "    collect = set()\n",
    "    for kmer,collected_reads in huge_dict.items():\n",
    "        if len(collected_reads) >= 2:\n",
    "#             collect = []\n",
    "            for read in permutations(collected_reads,2):\n",
    "                start = 0\n",
    "                a = read[0]\n",
    "                b = read[1]\n",
    "#                 print(a,b)\n",
    "                start = a.find(b[:min_length], start)  # look for b's prefix in a\n",
    "#                 print(start)\n",
    "                if start == -1:  # no more occurrences to right\n",
    "                    continue\n",
    "                # found occurrence; check for full suffix/prefix match\n",
    "                if b.startswith(a[start:]):\n",
    "                    collect.add((a,b))\n",
    "\n",
    "                start += 1  # move just past previous match\n",
    "    return collect\n",
    "result = overlap_for_reads(reads,30)\n",
    "print(result)"
   ]
  },
  {
   "cell_type": "code",
   "execution_count": 160,
   "metadata": {},
   "outputs": [
    {
     "name": "stdout",
     "output_type": "stream",
     "text": [
      "108344\n",
      "904746\n",
      "7161\n",
      "CPU times: user 5.23 s, sys: 167 ms, total: 5.4 s\n",
      "Wall time: 5.5 s\n"
     ]
    }
   ],
   "source": [
    "%%time\n",
    "reads, qualitites = readFastq('ERR266411_1.for_asm.fastq')\n",
    "# reads = ['CGTACG', 'TACGTA', 'GTACGT', 'ACGTAC', 'GTACGA', 'TACGAT']\n",
    "\n",
    "from collections import defaultdict\n",
    "def overlap_hw(a, b, min_length):\n",
    "    \"\"\" Return length of longest suffix of 'a' matching\n",
    "        a prefix of 'b' that is at least 'min_length'\n",
    "        characters long.  If no such overlap exists,\n",
    "        return 0. \"\"\"\n",
    "    start = 0  # start all the way at the left\n",
    "    while True:\n",
    "        start = a.find(b[:min_length], start)  # look for b's prefix in a\n",
    "        if start == -1:  # no more occurrences to right\n",
    "            return 0\n",
    "        # found occurrence; check for full suffix/prefix match\n",
    "        if b.startswith(a[start:]):\n",
    "            return len(a)-start\n",
    "        start += 1  # move just past previous match\n",
    "def overlap_for_reads(reads, min_length):\n",
    "    \"\"\" Return length of longest suffix of 'a' matching\n",
    "        a prefix of 'b' that is at least 'min_length'\n",
    "        characters long.  If no such overlap exists,\n",
    "        return 0. \"\"\"\n",
    "    huge_dict = defaultdict(set)\n",
    "\n",
    "    for read in reads:\n",
    "        for number in range(0,len(read)+1):\n",
    "            if len(read[number:number+min_length]) == min_length:\n",
    "                huge_dict[read[number:number+min_length]].add(read)\n",
    "\n",
    "    print(len(huge_dict.keys()))\n",
    "    collect = set()\n",
    "    collect_read_path = dict()\n",
    "    for read in reads:\n",
    "        if len(huge_dict[read[len(read)-min_length:len(read)+1]]) >= 2:\n",
    "            for specific_read in huge_dict[read[len(read)-min_length:len(read)]]:\n",
    "                if not read == specific_read:\n",
    "#                     overlap_hw(read,specific_read,min_length)\n",
    "                    x = overlap_hw(read,specific_read,min_length)\n",
    "                    if x != 0:\n",
    "                        collect.add((read,specific_read))\n",
    "                        collect_read_path[read] = specific_read\n",
    "                        \n",
    "\n",
    "    return collect,collect_read_path\n",
    "question3, question4 = overlap_for_reads(reads,30)\n",
    "print(len(question3))\n",
    "print(len(question4))"
   ]
  },
  {
   "cell_type": "code",
   "execution_count": null,
   "metadata": {},
   "outputs": [],
   "source": []
  }
 ],
 "metadata": {
  "kernelspec": {
   "display_name": "Python 3",
   "language": "python",
   "name": "python3"
  },
  "language_info": {
   "codemirror_mode": {
    "name": "ipython",
    "version": 3
   },
   "file_extension": ".py",
   "mimetype": "text/x-python",
   "name": "python",
   "nbconvert_exporter": "python",
   "pygments_lexer": "ipython3",
   "version": "3.8.3"
  }
 },
 "nbformat": 4,
 "nbformat_minor": 4
}
